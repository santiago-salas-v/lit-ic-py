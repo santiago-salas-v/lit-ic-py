{
 "cells": [
  {
   "cell_type": "markdown",
   "metadata": {},
   "source": [
    "# ref. Mortimer S. 271\n",
    "$$\n",
    "\\begin{align}\n",
    "HA + H2O & \\rightleftharpoons H3O(+) + A(-) & K= & 1.75\\times 10^{-5} \\\\\n",
    "2 H2O & \\rightleftharpoons H3O(+) + OH(-) & K= & 10^{-14}\n",
    "\\end{align} \\\\\n",
    "$$\n",
    "<pre>\n",
    "```\n",
    "| i | comp. |\n",
    "|---|-------|\n",
    "|0|H2O|\n",
    "|1|HA|\n",
    "|2|A(-)|\n",
    "|3|H3O(+)|\n",
    "|4|HO(-)|\n",
    "```\n",
    "</pre>\n",
    "$$x = [n_0 m_1 m_2 m_3 m_4 \\xi_1 \\xi_2 \\xi_3 \\gamma_0 \\gamma_1 \\gamma_3 \\gamma_4]$$"
   ]
  },
  {
   "cell_type": "code",
   "execution_count": 1,
   "metadata": {},
   "outputs": [],
   "source": [
    "from sympy import *\n",
    "import numpy as np\n",
    "init_printing(use_unicode = True)\n",
    "x, n0, ma, mb = symbols('x n0 ma mb')\n",
    "eps = np.finfo(float).eps\n",
    "C1,C2,C3,C4,C5,C6,C7,x1,x2,x3 = symbols('C1,C2,C3,C4,C5,C6,C7,x1,x2,x3')\n",
    "X0 = (0.01,5.08,0.01,1e-7,10**-13.99567863/1e-7,997/(2*1.00794+15.9994),5.10,0,0,0)\n",
    "X = (C1,C2,C3,C4,C5,C6,C7,x1,x2,x3)\t\n",
    "f_0 = (\n",
    "    -C1-x1,\n",
    "    -C2+5.100858754+x1-x2,\n",
    "    -C3+x2,\n",
    "    -C4+1e-7+x1+x2+x3,\n",
    "    -C5+10**-13.99567863/1e-7+x3,\n",
    "    -C6 -x1 -x2 -2*x3 + 997/(2*1.00794+15.9994),\n",
    "    -C7+5.100858754,\n",
    "    -10**-1.8569852/(997/(2*1.00794+15.9994))+C4*C2/(C1*C6),\n",
    "    -10**-7.171984936/(997/(2*1.00794+15.9994))+C4*C3/(C2*C6),\n",
    "    -10**-13.99567863/(997/(2*1.00794+15.9994))**2+C4*C5/C6**2)\n",
    "J = Matrix((\n",
    "    (-1, 0, 0, 0, 0, 0, 0,-1, 0, 0),\n",
    "    (0, -1, 0, 0, 0, 0, 0,+1,-1, 0),\n",
    "    (0, 0, -1, 0, 0, 0, 0, 0,+1, 0),\n",
    "    (0, 0, 0, -1, 0, 0, 0,+1,+1,+1),\n",
    "    (0, 0, 0, 0, -1, 0, 0, 0, 0,+1),\n",
    "    (0, 0, 0, 0, 0, -1, 0,-1,-1,-2),\n",
    "    (0, 0, 0, 0, 0,  0,-1, 0, 0, 0),\n",
    "    (-C2*C4/(C1**2*C6),C4/(C1*C6),0,C2/(C1*C6),0,-C4*C2/(C1*C6**2),0,0,0,0),\n",
    "    (0,-C3*C4/(C2**2*C6),C4/(C2*C6),C3/(C2*C6),0,-C4*C3/(C2*C6**2),0,0,0,0),\n",
    "    (0,0,0,C5/C6**2,C4/C6**2,-2*C4*C5/C6**3,0,0,0,0))\n",
    "    )"
   ]
  },
  {
   "cell_type": "code",
   "execution_count": 2,
   "metadata": {},
   "outputs": [
    {
     "data": {
      "text/latex": [
       "$$- \\frac{1}{2 \\left(\\sqrt{x} + 1\\right)^{2}} + \\frac{1}{2 \\sqrt{x} \\left(\\sqrt{x} + 1\\right)}$$"
      ],
      "text/plain": [
       "        1                   1         \n- ────────────── + ───────────────────\n               2       ___ ⎛  ___    ⎞\n    ⎛  ___    ⎞    2⋅╲╱ x ⋅⎝╲╱ x  + 1⎠\n  2⋅⎝╲╱ x  + 1⎠                       "
      ]
     },
     "metadata": {},
     "output_type": "execute_result"
    }
   ],
   "source": [
    "diff(sqrt(x)/(1+sqrt(x)), x)"
   ]
  },
  {
   "cell_type": "code",
   "execution_count": null,
   "metadata": {},
   "outputs": [],
   "source": [
    "J"
   ]
  },
  {
   "cell_type": "code",
   "execution_count": null,
   "outputs": [],
   "source": [
    ""
   ]
  }
 ],
 "metadata": {},
 "nbformat": 4,
 "nbformat_minor": 0
}